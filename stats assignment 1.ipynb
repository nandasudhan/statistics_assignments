{
 "cells": [
  {
   "cell_type": "markdown",
   "id": "707e722d",
   "metadata": {},
   "source": [
    "The marks awarded for an assignment set for a Year 8 class of 20 students were as\n",
    "follows:\n",
    "6 7 5 7 7 8 7 6 9 7 4 10 6 8 8 9 5 6 4 8"
   ]
  },
  {
   "cell_type": "code",
   "execution_count": 2,
   "id": "564b0f60",
   "metadata": {},
   "outputs": [],
   "source": [
    "marks = [6, 7, 5, 7, 7, 8, 7, 6, 9, 7, 4, 10, 6, 8, 8, 9, 5, 6, 4, 8]"
   ]
  },
  {
   "cell_type": "code",
   "execution_count": 6,
   "id": "c7107922",
   "metadata": {},
   "outputs": [
    {
     "data": {
      "text/plain": [
       "6.85"
      ]
     },
     "execution_count": 6,
     "metadata": {},
     "output_type": "execute_result"
    }
   ],
   "source": [
    "mean = sum(marks)/ len(marks)\n",
    "mean"
   ]
  },
  {
   "cell_type": "code",
   "execution_count": 8,
   "id": "9da1a65a",
   "metadata": {},
   "outputs": [],
   "source": [
    "import statistics"
   ]
  },
  {
   "cell_type": "code",
   "execution_count": 9,
   "id": "231fefc1",
   "metadata": {},
   "outputs": [
    {
     "data": {
      "text/plain": [
       "7.0"
      ]
     },
     "execution_count": 9,
     "metadata": {},
     "output_type": "execute_result"
    }
   ],
   "source": [
    "median = statistics.median(marks)\n",
    "median"
   ]
  },
  {
   "cell_type": "code",
   "execution_count": 10,
   "id": "c5cedb30",
   "metadata": {},
   "outputs": [
    {
     "data": {
      "text/plain": [
       "7"
      ]
     },
     "execution_count": 10,
     "metadata": {},
     "output_type": "execute_result"
    }
   ],
   "source": [
    "mode = statistics.mode(marks)\n",
    "mode"
   ]
  },
  {
   "cell_type": "code",
   "execution_count": 11,
   "id": "f76471ee",
   "metadata": {},
   "outputs": [
    {
     "data": {
      "text/plain": [
       "1.6311119875071343"
      ]
     },
     "execution_count": 11,
     "metadata": {},
     "output_type": "execute_result"
    }
   ],
   "source": [
    "sd = statistics.stdev(marks)\n",
    "sd"
   ]
  },
  {
   "cell_type": "code",
   "execution_count": null,
   "id": "c606a1c6",
   "metadata": {},
   "outputs": [],
   "source": []
  },
  {
   "cell_type": "markdown",
   "id": "4a5dbf99",
   "metadata": {},
   "source": [
    "2. The number of calls from motorists per day for roadside service was recorded for a\n",
    "particular month:\n",
    "28, 122, 217, 130, 120, 86, 80, 90, 140, 120, 70, 40, 145, 113, 90, 68, 174, 194, 170,\n",
    "100, 75, 104, 97, 75,\n",
    "123, 100, 75, 104, 97, 75, 123, 100, 89, 120, 109"
   ]
  },
  {
   "cell_type": "code",
   "execution_count": 12,
   "id": "f01996e3",
   "metadata": {},
   "outputs": [],
   "source": [
    "calls = [28, 122, 217, 130, 120, 86, 80, 90, 140, 120, 70, 40, 145, 113, 90, 68, 174, 194, 170, 100, 75, 104, 97, 75, 123, 100, 75, 104, 97, 75, 123, 100, 89, 120, 109]"
   ]
  },
  {
   "cell_type": "code",
   "execution_count": 13,
   "id": "f90854d3",
   "metadata": {},
   "outputs": [],
   "source": [
    "mean = statistics.mean(calls)"
   ]
  },
  {
   "cell_type": "code",
   "execution_count": 14,
   "id": "bfe2d0a4",
   "metadata": {},
   "outputs": [
    {
     "data": {
      "text/plain": [
       "107.51428571428572"
      ]
     },
     "execution_count": 14,
     "metadata": {},
     "output_type": "execute_result"
    }
   ],
   "source": [
    "mean"
   ]
  },
  {
   "cell_type": "code",
   "execution_count": 17,
   "id": "122129d9",
   "metadata": {},
   "outputs": [],
   "source": [
    "median1 = statistics.median(calls)"
   ]
  },
  {
   "cell_type": "code",
   "execution_count": 18,
   "id": "b8b84d76",
   "metadata": {},
   "outputs": [
    {
     "data": {
      "text/plain": [
       "100"
      ]
     },
     "execution_count": 18,
     "metadata": {},
     "output_type": "execute_result"
    }
   ],
   "source": [
    "median1"
   ]
  },
  {
   "cell_type": "code",
   "execution_count": 19,
   "id": "3b6aa747",
   "metadata": {},
   "outputs": [
    {
     "data": {
      "text/plain": [
       "75"
      ]
     },
     "execution_count": 19,
     "metadata": {},
     "output_type": "execute_result"
    }
   ],
   "source": [
    "mode1 = statistics.mode(calls)\n",
    "mode1"
   ]
  },
  {
   "cell_type": "code",
   "execution_count": 20,
   "id": "f49ecfe1",
   "metadata": {},
   "outputs": [
    {
     "data": {
      "text/plain": [
       "39.33892805484412"
      ]
     },
     "execution_count": 20,
     "metadata": {},
     "output_type": "execute_result"
    }
   ],
   "source": [
    "sd1 = statistics.stdev(calls)\n",
    "sd1"
   ]
  },
  {
   "cell_type": "code",
   "execution_count": null,
   "id": "38290d7e",
   "metadata": {},
   "outputs": [],
   "source": []
  },
  {
   "cell_type": "markdown",
   "id": "a701b299",
   "metadata": {},
   "source": [
    "3.The number of times I go to the gym in weekdays, are given below along with its\n",
    "associated probability:\n",
    "x = 0, 1, 2, 3, 4, 5\n",
    "f(x) = 0.09, 0.15, 0.40, 0.25, 0.10, 0.01\n",
    "Calculate the mean no. of workouts in a week. Also evaluate the variance involved in\n",
    "it."
   ]
  },
  {
   "cell_type": "code",
   "execution_count": 21,
   "id": "9d8320e3",
   "metadata": {},
   "outputs": [],
   "source": [
    "x = [0, 1, 2, 3, 4, 5]\n",
    "f_x = [0.09, 0.15, 0.40, 0.25, 0.10, 0.01]"
   ]
  },
  {
   "cell_type": "code",
   "execution_count": 30,
   "id": "31f29064",
   "metadata": {},
   "outputs": [
    {
     "name": "stdout",
     "output_type": "stream",
     "text": [
      "mean: 2.15\n"
     ]
    }
   ],
   "source": [
    "mean = 0\n",
    "for i in range(len(x)):\n",
    "    mean=mean + (x[i]*f_x[i])\n",
    "print(\"mean:\" ,mean)"
   ]
  },
  {
   "cell_type": "code",
   "execution_count": 31,
   "id": "a6ce4884",
   "metadata": {},
   "outputs": [
    {
     "name": "stdout",
     "output_type": "stream",
     "text": [
      "Variance: 1.2275\n"
     ]
    }
   ],
   "source": [
    "variance = 0\n",
    "for i in range(len(x)):\n",
    "    variance += (x[i] - mean) ** 2 * f_x[i]\n",
    "\n",
    "print(\"Variance:\", variance)"
   ]
  },
  {
   "cell_type": "code",
   "execution_count": null,
   "id": "1f54c6b2",
   "metadata": {},
   "outputs": [],
   "source": []
  },
  {
   "cell_type": "markdown",
   "id": "c38da775",
   "metadata": {},
   "source": [
    "Let the continuous random variable D denote the diameter of the hole drilled in an\n",
    "aluminum sheet. The target diameter to be achieved is 12.5mm. Random\n",
    "disturbances in the process often result in inaccuracy.\n",
    "Historical data shows that the distribution of D can be modelled by the PDF (d) =\n",
    "20e−20(d−12.5), d ≥ 12.5. If a part with diameter > 12.6 mm needs to be scrapped,\n",
    "what is the proportion of those parts? What is the CDF when the diameter is of 11\n",
    "mm? What is your conclusion regarding the proportion of scraps?\n",
    "\n"
   ]
  },
  {
   "cell_type": "code",
   "execution_count": 1,
   "id": "438857fc",
   "metadata": {},
   "outputs": [],
   "source": [
    "import numpy as np"
   ]
  },
  {
   "cell_type": "code",
   "execution_count": 2,
   "id": "0cbf5e7a",
   "metadata": {},
   "outputs": [],
   "source": [
    "# Define the PDF function\n",
    "def pdf(d):\n",
    "    if d >= 12.5:\n",
    "        return 20 * np.exp(-20 * (d - 12.5))\n",
    "    else:\n",
    "        return 0"
   ]
  },
  {
   "cell_type": "code",
   "execution_count": 3,
   "id": "b21bc905",
   "metadata": {},
   "outputs": [],
   "source": [
    "# Proportion of parts with diameter > 12.6 mm (using trapezoidal rule)\n",
    "def proportion_scraps_approx(lower_limit, upper_limit, num_points=1000):\n",
    "    delta_d = (upper_limit - lower_limit) / num_points\n",
    "    x_values = np.linspace(lower_limit, upper_limit, num_points)\n",
    "    y_values = [pdf(x) for x in x_values]\n",
    "    return np.trapz(y_values, x_values)"
   ]
  },
  {
   "cell_type": "code",
   "execution_count": 4,
   "id": "f3308ea6",
   "metadata": {},
   "outputs": [
    {
     "name": "stdout",
     "output_type": "stream",
     "text": [
      "Proportion of parts with diameter > 12.6 mm: nan\n"
     ]
    },
    {
     "name": "stderr",
     "output_type": "stream",
     "text": [
      "C:\\Users\\Nandasudhan\\anaconda3\\lib\\site-packages\\numpy\\core\\function_base.py:151: RuntimeWarning: invalid value encountered in multiply\n",
      "  y *= step\n",
      "C:\\Users\\Nandasudhan\\anaconda3\\lib\\site-packages\\numpy\\lib\\function_base.py:1447: RuntimeWarning: invalid value encountered in subtract\n",
      "  a = op(a[slice1], a[slice2])\n"
     ]
    }
   ],
   "source": [
    "proportion_scraps = proportion_scraps_approx(12.6, np.inf)\n",
    "print(\"Proportion of parts with diameter > 12.6 mm:\", proportion_scraps)"
   ]
  },
  {
   "cell_type": "code",
   "execution_count": 5,
   "id": "953d5106",
   "metadata": {},
   "outputs": [
    {
     "name": "stdout",
     "output_type": "stream",
     "text": [
      "CDF when diameter is 11 mm: -0.01501501501500968\n"
     ]
    }
   ],
   "source": [
    "# CDF when diameter is 11 mm (using trapezoidal rule)\n",
    "cdf_11 = proportion_scraps_approx(12.5, 11)\n",
    "print(\"CDF when diameter is 11 mm:\", cdf_11)"
   ]
  },
  {
   "cell_type": "code",
   "execution_count": 6,
   "id": "b7c8fa8f",
   "metadata": {},
   "outputs": [
    {
     "name": "stdout",
     "output_type": "stream",
     "text": [
      "Conclusion:\n",
      "The proportion of scrapped parts is acceptable.\n"
     ]
    }
   ],
   "source": [
    "# Conclusion regarding the proportion of scraps\n",
    "print(\"Conclusion:\")\n",
    "if proportion_scraps > 0.05:\n",
    "    print(\"The proportion of scrapped parts is significant.\")\n",
    "else:\n",
    "    print(\"The proportion of scrapped parts is acceptable.\")\n"
   ]
  },
  {
   "cell_type": "code",
   "execution_count": null,
   "id": "7e71b829",
   "metadata": {},
   "outputs": [],
   "source": []
  },
  {
   "cell_type": "markdown",
   "id": "3b2b06cc",
   "metadata": {},
   "source": [
    "A company manufactures LED bulbs with a faulty rate of 30%. If I randomly select 6\n",
    "chosen LEDs, what is the probability of having 2 faulty LEDs in my sample?\n",
    "Calculate the average value of this process. Also evaluate the standard deviation\n",
    "associated with it."
   ]
  },
  {
   "cell_type": "code",
   "execution_count": 7,
   "id": "d847ecf9",
   "metadata": {},
   "outputs": [],
   "source": [
    "import math"
   ]
  },
  {
   "cell_type": "code",
   "execution_count": 14,
   "id": "fadf548e",
   "metadata": {},
   "outputs": [],
   "source": [
    "#using binominal probability formula\n",
    "# Given data\n",
    "n = 6  # number of LEDs selected\n",
    "k = 2  # number of faulty LEDs\n",
    "p = 0.30  # probability of a faulty LED"
   ]
  },
  {
   "cell_type": "code",
   "execution_count": 13,
   "id": "d356debd",
   "metadata": {},
   "outputs": [
    {
     "name": "stdout",
     "output_type": "stream",
     "text": [
      "Probability of having 2 faulty LEDs in the sample: 0.3241349999999999\n"
     ]
    }
   ],
   "source": [
    "# Calculate the probability using the binomial probability formula\n",
    "probability = (math.comb(n, k)) * (p ** k) * ((1 - p) ** (n - k))\n",
    "print(\"Probability of having 2 faulty LEDs in the sample:\", probability)"
   ]
  },
  {
   "cell_type": "code",
   "execution_count": 16,
   "id": "86b8cd61",
   "metadata": {},
   "outputs": [
    {
     "name": "stdout",
     "output_type": "stream",
     "text": [
      "Average: 1.7999999999999998\n"
     ]
    }
   ],
   "source": [
    "# Calculate the average value (expected value)\n",
    "average = n * p\n",
    "print(\"Average:\", average)"
   ]
  },
  {
   "cell_type": "code",
   "execution_count": 15,
   "id": "b00b38dc",
   "metadata": {},
   "outputs": [
    {
     "name": "stdout",
     "output_type": "stream",
     "text": [
      "Standard deviation: 1.1224972160321822\n"
     ]
    }
   ],
   "source": [
    "# Calculate the standard deviation\n",
    "std_dev = math.sqrt(n * p * (1 - p))\n",
    "print(\"Standard deviation:\", std_dev)"
   ]
  },
  {
   "cell_type": "code",
   "execution_count": null,
   "id": "1ae7eb3a",
   "metadata": {},
   "outputs": [],
   "source": []
  },
  {
   "cell_type": "code",
   "execution_count": null,
   "id": "68081cbc",
   "metadata": {},
   "outputs": [],
   "source": []
  },
  {
   "cell_type": "markdown",
   "id": "cc6b028f",
   "metadata": {},
   "source": [
    "Gaurav and Barakha are both preparing for entrance exams. Gaurav attempts to\n",
    "solve 8 questions per day with a correction rate of 75%, while Barakha averages\n",
    "around 12 questions per day with a correction rate of 45%. What is the probability\n",
    "that each of them will solve 5 questions correctly? What happens in cases of 4 and 6\n",
    "correct solutions? What do you infer from it? What are the two main governing\n",
    "factors affecting their ability to solve questions correctly? Give a pictorial\n",
    "representation of the same to validate your answer."
   ]
  },
  {
   "cell_type": "code",
   "execution_count": 27,
   "id": "ced4b6c9",
   "metadata": {},
   "outputs": [],
   "source": [
    "import math\n",
    "import matplotlib.pyplot as plt"
   ]
  },
  {
   "cell_type": "code",
   "execution_count": 19,
   "id": "bb0d418a",
   "metadata": {},
   "outputs": [],
   "source": [
    "# Gaurav's data\n",
    "n_gaurav = 8  # number of questions attempted per day\n",
    "p_gaurav = 0.75  # correction rate"
   ]
  },
  {
   "cell_type": "code",
   "execution_count": 20,
   "id": "316e95fe",
   "metadata": {},
   "outputs": [],
   "source": [
    "# Function to calculate binomial probability\n",
    "def binomial_probability(n, k, p):\n",
    "    return (math.comb(n, k)) * (p ** k) * ((1 - p) ** (n - k))"
   ]
  },
  {
   "cell_type": "code",
   "execution_count": 21,
   "id": "c59e5b5b",
   "metadata": {},
   "outputs": [],
   "source": [
    "# Calculate probabilities for Gaurav\n",
    "prob_gaurav_5 = binomial_probability(n_gaurav, 5, p_gaurav)\n",
    "prob_gaurav_4 = binomial_probability(n_gaurav, 4, p_gaurav)\n",
    "prob_gaurav_6 = binomial_probability(n_gaurav, 6, p_gaurav)"
   ]
  },
  {
   "cell_type": "code",
   "execution_count": 22,
   "id": "3403bae3",
   "metadata": {},
   "outputs": [
    {
     "name": "stdout",
     "output_type": "stream",
     "text": [
      "Probability for Gaurav to solve 5 questions correctly: 0.2076416015625\n",
      "Probability for Gaurav to solve 4 questions correctly: 0.086517333984375\n",
      "Probability for Gaurav to solve 6 questions correctly: 0.31146240234375\n"
     ]
    }
   ],
   "source": [
    "# Print the probabilities\n",
    "print(\"Probability for Gaurav to solve 5 questions correctly:\", prob_gaurav_5)\n",
    "print(\"Probability for Gaurav to solve 4 questions correctly:\", prob_gaurav_4)\n",
    "print(\"Probability for Gaurav to solve 6 questions correctly:\", prob_gaurav_6)"
   ]
  },
  {
   "cell_type": "code",
   "execution_count": 23,
   "id": "dc873ece",
   "metadata": {},
   "outputs": [],
   "source": [
    "#repeat for barakha"
   ]
  },
  {
   "cell_type": "code",
   "execution_count": 24,
   "id": "f7acc4df",
   "metadata": {},
   "outputs": [],
   "source": [
    "# Barakha's data\n",
    "n_barakha = 12  # number of questions attempted per day\n",
    "p_barakha = 0.45  # correction rate"
   ]
  },
  {
   "cell_type": "code",
   "execution_count": 25,
   "id": "785def4e",
   "metadata": {},
   "outputs": [],
   "source": [
    "# Calculate probabilities for Barakha\n",
    "prob_barakha_5 = binomial_probability(n_barakha, 5, p_barakha)\n",
    "prob_barakha_4 = binomial_probability(n_barakha, 4, p_barakha)\n",
    "prob_barakha_6 = binomial_probability(n_barakha, 6, p_barakha)"
   ]
  },
  {
   "cell_type": "code",
   "execution_count": 26,
   "id": "4a01996a",
   "metadata": {},
   "outputs": [
    {
     "name": "stdout",
     "output_type": "stream",
     "text": [
      "Probability for Barakha to solve 5 questions correctly: 0.22249823843265837\n",
      "Probability for Barakha to solve 4 questions correctly: 0.16996393213605848\n",
      "Probability for Barakha to solve 6 questions correctly: 0.2123846821402648\n"
     ]
    }
   ],
   "source": [
    "print(\"Probability for Barakha to solve 5 questions correctly:\", prob_barakha_5)\n",
    "print(\"Probability for Barakha to solve 4 questions correctly:\", prob_barakha_4)\n",
    "print(\"Probability for Barakha to solve 6 questions correctly:\", prob_barakha_6)"
   ]
  },
  {
   "cell_type": "code",
   "execution_count": null,
   "id": "20375f21",
   "metadata": {},
   "outputs": [],
   "source": []
  },
  {
   "cell_type": "code",
   "execution_count": 28,
   "id": "40b5a106",
   "metadata": {},
   "outputs": [
    {
     "data": {
      "image/png": "[encoded data removed]",
      "text/plain": [
       "<Figure size 640x480 with 1 Axes>"
      ]
     },
     "metadata": {},
     "output_type": "display_data"
    }
   ],
   "source": [
    "# Data for plotting\n",
    "labels = ['5 correct solutions', '4 correct solutions', '6 correct solutions']\n",
    "gaurav_probs = [prob_gaurav_5, prob_gaurav_4, prob_gaurav_6]\n",
    "barakha_probs = [prob_barakha_5, prob_barakha_4, prob_barakha_6]\n",
    "\n",
    "x = range(len(labels))\n",
    "\n",
    "# Plotting\n",
    "plt.bar(x, gaurav_probs, width=0.4, label='Gaurav', align='center')\n",
    "plt.bar(x, barakha_probs, width=0.4, label='Barakha', align='edge')\n",
    "\n",
    "plt.xlabel('Scenarios')\n",
    "plt.ylabel('Probability')\n",
    "plt.title('Probability of Correct Solutions')\n",
    "plt.xticks(x, labels)\n",
    "plt.legend()\n",
    "plt.show()"
   ]
  },
  {
   "cell_type": "code",
   "execution_count": null,
   "id": "2a7e929d",
   "metadata": {},
   "outputs": [],
   "source": []
  },
  {
   "cell_type": "markdown",
   "id": "7b2fa8e8",
   "metadata": {},
   "source": [
    "Customers arrive at a rate of 72 per hour to my shop. What is the probability of k\n",
    "customers arriving in 4 minutes? a) 5 customers, b) not more than 3 customers, c)\n",
    "more than 3 customers. Give a pictorial representation of the same to validate your\n",
    "answer."
   ]
  },
  {
   "cell_type": "code",
   "execution_count": 35,
   "id": "4d96668b",
   "metadata": {},
   "outputs": [],
   "source": [
    "import math\n",
    "import matplotlib.pyplot as plt"
   ]
  },
  {
   "cell_type": "code",
   "execution_count": 36,
   "id": "b21e9fa2",
   "metadata": {},
   "outputs": [],
   "source": [
    "# Given data\n",
    "arrival_rate_per_hour = 72\n",
    "arrival_rate_per_minute = arrival_rate_per_hour / 60  # customers per minute\n",
    "time_interval = 4  # minutes"
   ]
  },
  {
   "cell_type": "code",
   "execution_count": 37,
   "id": "7246b36c",
   "metadata": {},
   "outputs": [],
   "source": [
    "# Average rate of arrival in 4 minutes\n",
    "lambda_ = arrival_rate_per_minute * time_interval"
   ]
  },
  {
   "cell_type": "code",
   "execution_count": 38,
   "id": "52529e61",
   "metadata": {},
   "outputs": [
    {
     "data": {
      "text/plain": [
       "4.8"
      ]
     },
     "execution_count": 38,
     "metadata": {},
     "output_type": "execute_result"
    }
   ],
   "source": [
    "lambda_"
   ]
  },
  {
   "cell_type": "code",
   "execution_count": 39,
   "id": "ee330cb4",
   "metadata": {},
   "outputs": [],
   "source": [
    "# Function to calculate Poisson probability\n",
    "def poisson_probability(k, lambda_):\n",
    "    return (math.exp(-lambda_) * (lambda_ ** k)) / math.factorial(k)"
   ]
  },
  {
   "cell_type": "code",
   "execution_count": 40,
   "id": "128f9f4e",
   "metadata": {},
   "outputs": [],
   "source": [
    "# Calculate the probabilities\n",
    "prob_5_customers = poisson_probability(5, lambda_)\n",
    "prob_not_more_than_3_customers = sum(poisson_probability(i, lambda_) for i in range(4))\n",
    "prob_more_than_3_customers = 1 - prob_not_more_than_3_customers"
   ]
  },
  {
   "cell_type": "code",
   "execution_count": 41,
   "id": "91872563",
   "metadata": {},
   "outputs": [
    {
     "name": "stdout",
     "output_type": "stream",
     "text": [
      "Probability of 5 customers arriving in 4 minutes: 0.17474768364388282\n",
      "Probability of not more than 3 customers arriving in 4 minutes: 0.2942299164965641\n",
      "Probability of more than 3 customers arriving in 4 minutes: 0.705770083503436\n"
     ]
    }
   ],
   "source": [
    "# Print the probabilities\n",
    "print(\"Probability of 5 customers arriving in 4 minutes:\", prob_5_customers)\n",
    "print(\"Probability of not more than 3 customers arriving in 4 minutes:\", prob_not_more_than_3_customers)\n",
    "print(\"Probability of more than 3 customers arriving in 4 minutes:\", prob_more_than_3_customers)"
   ]
  },
  {
   "cell_type": "code",
   "execution_count": null,
   "id": "11ae5bbe",
   "metadata": {},
   "outputs": [],
   "source": []
  },
  {
   "cell_type": "code",
   "execution_count": 43,
   "id": "893c352c",
   "metadata": {},
   "outputs": [
    {
     "data": {
      "image/png": "[encoded data removed]",
      "text/plain": [
       "<Figure size 640x480 with 1 Axes>"
      ]
     },
     "metadata": {},
     "output_type": "display_data"
    }
   ],
   "source": [
    "# Data for plotting\n",
    "labels = ['5 customers', 'Not more than 3 customers', 'More than 3 customers']\n",
    "probabilities = [prob_5_customers, prob_not_more_than_3_customers, prob_more_than_3_customers]\n",
    "\n",
    "x = range(len(labels))\n",
    "\n",
    "# Plotting\n",
    "plt.bar(x, probabilities)\n",
    "\n",
    "plt.xlabel('Scenarios')\n",
    "plt.ylabel('Probability')\n",
    "plt.title('Probability of Customer Arrivals in 4 Minutes')\n",
    "plt.xticks(x, labels, rotation=45)\n",
    "plt.show()"
   ]
  },
  {
   "cell_type": "code",
   "execution_count": null,
   "id": "0c07f7d8",
   "metadata": {},
   "outputs": [],
   "source": []
  },
  {
   "cell_type": "code",
   "execution_count": null,
   "id": "87dcff5d",
   "metadata": {},
   "outputs": [],
   "source": []
  },
  {
   "cell_type": "markdown",
   "id": "fca9d96f",
   "metadata": {},
   "source": [
    "I work as a data analyst in Aeon Learning Pvt. Ltd. After analyzing data, I make\n",
    "reports, where I have the efficiency of entering 77 words per minute with 6 errors per\n",
    "hour. What is the probability that I will commit 2 errors in a 455-word financial report?\n",
    "What happens when the no. of words increases/decreases (in case of 1000 words,\n",
    "255 words)?\n",
    "How is the λ affected?\n",
    "How does it influence the PMF?\n",
    "Give a pictorial representation of the same to validate your answer.\n",
    "\n"
   ]
  },
  {
   "cell_type": "code",
   "execution_count": 58,
   "id": "45a80c23",
   "metadata": {},
   "outputs": [],
   "source": [
    "import math\n",
    "import matplotlib.pyplot as plt"
   ]
  },
  {
   "cell_type": "code",
   "execution_count": 47,
   "id": "18f6e1ba",
   "metadata": {},
   "outputs": [],
   "source": [
    "# Given data\n",
    "errors_per_hour = 6\n",
    "words_per_minute = 77\n",
    "words_per_hour = words_per_minute * 60"
   ]
  },
  {
   "cell_type": "code",
   "execution_count": 48,
   "id": "90b1b960",
   "metadata": {},
   "outputs": [
    {
     "data": {
      "text/plain": [
       "0.5909090909090909"
      ]
     },
     "execution_count": 48,
     "metadata": {},
     "output_type": "execute_result"
    }
   ],
   "source": [
    "# Calculate lambda for errors per word\n",
    "lambda_ = (errors_per_hour / words_per_hour) * 455\n",
    "lambda_"
   ]
  },
  {
   "cell_type": "code",
   "execution_count": 49,
   "id": "06b851a6",
   "metadata": {},
   "outputs": [],
   "source": [
    "# Function to calculate Poisson probability\n",
    "def poisson_probability(k, lambda_):\n",
    "    return (math.exp(-lambda_) * (lambda_ ** k)) / math.factorial(k)"
   ]
  },
  {
   "cell_type": "code",
   "execution_count": 50,
   "id": "6a1a4a96",
   "metadata": {},
   "outputs": [
    {
     "name": "stdout",
     "output_type": "stream",
     "text": [
      "Probability of committing 2 errors in a 455-word report: 0.09669027375144446\n"
     ]
    }
   ],
   "source": [
    "# Calculate probabilities for 455-word report\n",
    "prob_2_errors_455 = poisson_probability(2, lambda_)\n",
    "print(\"Probability of committing 2 errors in a 455-word report:\", prob_2_errors_455)"
   ]
  },
  {
   "cell_type": "code",
   "execution_count": 51,
   "id": "de360784",
   "metadata": {},
   "outputs": [],
   "source": [
    "# Calculate lambda for different word counts (1000 words and 255 words)\n",
    "lambda_1000 = (errors_per_hour / words_per_hour) * 1000\n",
    "lambda_255 = (errors_per_hour / words_per_hour) * 255"
   ]
  },
  {
   "cell_type": "code",
   "execution_count": 53,
   "id": "f2be27c9",
   "metadata": {},
   "outputs": [
    {
     "name": "stdout",
     "output_type": "stream",
     "text": [
      "Probability of committing 2 errors in a 1000-word report: 0.23012815007300153\n"
     ]
    }
   ],
   "source": [
    "# Calculate probabilities for 1000-word report\n",
    "prob_2_errors_1000 = poisson_probability(2, lambda_1000)\n",
    "print(\"Probability of committing 2 errors in a 1000-word report:\", prob_2_errors_1000)"
   ]
  },
  {
   "cell_type": "code",
   "execution_count": 55,
   "id": "3e419879",
   "metadata": {},
   "outputs": [
    {
     "name": "stdout",
     "output_type": "stream",
     "text": [
      "Probability of committing 2 errors in a 255-word report: 0.039377135392854104\n"
     ]
    }
   ],
   "source": [
    "# Calculate probabilities for 255-word report\n",
    "prob_2_errors_255 = poisson_probability(2, lambda_255)\n",
    "print(\"Probability of committing 2 errors in a 255-word report:\", prob_2_errors_255)"
   ]
  },
  {
   "cell_type": "code",
   "execution_count": null,
   "id": "7086e47f",
   "metadata": {},
   "outputs": [],
   "source": []
  },
  {
   "cell_type": "code",
   "execution_count": 57,
   "id": "e7369da8",
   "metadata": {},
   "outputs": [
    {
     "data": {
      "image/png": "[encoded data removed]",
      "text/plain": [
       "<Figure size 640x480 with 1 Axes>"
      ]
     },
     "metadata": {},
     "output_type": "display_data"
    }
   ],
   "source": [
    "# Data for plotting\n",
    "labels = ['455 words', '1000 words', '255 words']\n",
    "probabilities = [prob_2_errors_455, prob_2_errors_1000, prob_2_errors_255]\n",
    "\n",
    "x = range(len(labels))\n",
    "\n",
    "# Plotting\n",
    "plt.bar(x, probabilities)\n",
    "\n",
    "plt.xlabel('Number of Words')\n",
    "plt.ylabel('Probability')\n",
    "plt.title('Probability of Committing 2 Errors')\n",
    "plt.xticks(x, labels)\n",
    "plt.show()\n"
   ]
  },
  {
   "cell_type": "code",
   "execution_count": null,
   "id": "18a3a63b",
   "metadata": {},
   "outputs": [],
   "source": []
  },
  {
   "cell_type": "markdown",
   "id": "58e5f9b4",
   "metadata": {},
   "source": [
    "Please compute the following:\n",
    "a) P(Z > 1.26), . P(Z < −0.86), P(Z > −1.37), P(−1.25 < Z < 0.37), . P(Z ≤ −4.6)\n",
    "b) Find the value z such that P(Z > z) = 0.05\n",
    "c) Find the value of z such that P(−z < Z < z) = 0.99"
   ]
  },
  {
   "cell_type": "code",
   "execution_count": 69,
   "id": "a702a64d",
   "metadata": {},
   "outputs": [],
   "source": [
    "from scipy.stats import norm"
   ]
  },
  {
   "cell_type": "code",
   "execution_count": 70,
   "id": "54e3b0c7",
   "metadata": {},
   "outputs": [
    {
     "data": {
      "text/plain": [
       "0.10383468112130045"
      ]
     },
     "execution_count": 70,
     "metadata": {},
     "output_type": "execute_result"
    }
   ],
   "source": [
    "# a)\n",
    "# P(Z > 1.26)\n",
    "prob_gt_1_26 = 1 - norm.cdf(1.26)\n",
    "prob_gt_1_26"
   ]
  },
  {
   "cell_type": "code",
   "execution_count": 60,
   "id": "08b61b3d",
   "metadata": {},
   "outputs": [
    {
     "data": {
      "text/plain": [
       "0.1948945212518084"
      ]
     },
     "execution_count": 60,
     "metadata": {},
     "output_type": "execute_result"
    }
   ],
   "source": [
    "# P(Z < -0.86)\n",
    "prob_lt_minus_0_86 = norm.cdf(-0.86)\n",
    "prob_lt_minus_0_86"
   ]
  },
  {
   "cell_type": "code",
   "execution_count": 61,
   "id": "dc82a919",
   "metadata": {},
   "outputs": [
    {
     "data": {
      "text/plain": [
       "0.914656549178033"
      ]
     },
     "execution_count": 61,
     "metadata": {},
     "output_type": "execute_result"
    }
   ],
   "source": [
    "# P(Z > -1.37)\n",
    "prob_gt_minus_1_37 = 1 - norm.cdf(-1.37)\n",
    "prob_gt_minus_1_37"
   ]
  },
  {
   "cell_type": "code",
   "execution_count": 62,
   "id": "d93f1ec4",
   "metadata": {},
   "outputs": [
    {
     "data": {
      "text/plain": [
       "0.5386589811336914"
      ]
     },
     "execution_count": 62,
     "metadata": {},
     "output_type": "execute_result"
    }
   ],
   "source": [
    "# P(-1.25 < Z < 0.37)\n",
    "prob_between_minus_1_25_and_0_37 = norm.cdf(0.37) - norm.cdf(-1.25)\n",
    "prob_between_minus_1_25_and_0_37"
   ]
  },
  {
   "cell_type": "code",
   "execution_count": 63,
   "id": "c63b29dd",
   "metadata": {},
   "outputs": [
    {
     "data": {
      "text/plain": [
       "2.1124547025028537e-06"
      ]
     },
     "execution_count": 63,
     "metadata": {},
     "output_type": "execute_result"
    }
   ],
   "source": [
    "# P(Z ≤ -4.6)\n",
    "prob_le_minus_4_6 = norm.cdf(-4.6)\n",
    "prob_le_minus_4_6"
   ]
  },
  {
   "cell_type": "code",
   "execution_count": null,
   "id": "041b3fb7",
   "metadata": {},
   "outputs": [],
   "source": []
  },
  {
   "cell_type": "code",
   "execution_count": 67,
   "id": "2b09cfd0",
   "metadata": {},
   "outputs": [
    {
     "name": "stdout",
     "output_type": "stream",
     "text": [
      "Value z such that P(Z > z) = 0.05: 1.6448536269514722\n"
     ]
    }
   ],
   "source": [
    "# b)\n",
    "# Find the value z such that P(Z > z) = 0.05\n",
    "z_for_05 = norm.ppf(1 - 0.05)\n",
    "print(\"Value z such that P(Z > z) = 0.05:\", z_for_05)\n"
   ]
  },
  {
   "cell_type": "code",
   "execution_count": 68,
   "id": "98d91892",
   "metadata": {},
   "outputs": [
    {
     "name": "stdout",
     "output_type": "stream",
     "text": [
      "Value of z such that P(-z < Z < z) = 0.99: 2.5758293035489004\n"
     ]
    }
   ],
   "source": [
    "# c)\n",
    "# Find the value of z such that P(-z < Z < z) = 0.99\n",
    "z_for_099 = norm.ppf(0.99 + (1 - 0.99) / 2)  # Add (1 - 0.99) / 2 for one-sided probability\n",
    "print(\"Value of z such that P(-z < Z < z) = 0.99:\", z_for_099)\n"
   ]
  },
  {
   "cell_type": "code",
   "execution_count": null,
   "id": "b0dbeb78",
   "metadata": {},
   "outputs": [],
   "source": []
  },
  {
   "cell_type": "code",
   "execution_count": null,
   "id": "94339775",
   "metadata": {},
   "outputs": [],
   "source": []
  },
  {
   "cell_type": "markdown",
   "id": "39f783e7",
   "metadata": {},
   "source": [
    "The current flow in a copper wire follow a normal distribution with a mean of 10 mA\n",
    "and a variance of 4 (mA)2.\n",
    "What is the probability that a current measurement will exceed 13 mA? What is the\n",
    "probability that a current measurement is between 9 and 11mA? Determine the\n",
    "current measurement which has a probability of 0.98."
   ]
  },
  {
   "cell_type": "code",
   "execution_count": 77,
   "id": "fabc68e4",
   "metadata": {},
   "outputs": [],
   "source": [
    "import math\n",
    "from scipy.stats import norm"
   ]
  },
  {
   "cell_type": "code",
   "execution_count": 78,
   "id": "21259d70",
   "metadata": {},
   "outputs": [],
   "source": [
    "# Given data\n",
    "mean = 10  # mean (mu)\n",
    "variance = 4  # variance (sigma^2)"
   ]
  },
  {
   "cell_type": "code",
   "execution_count": 79,
   "id": "7b894b28",
   "metadata": {},
   "outputs": [
    {
     "data": {
      "text/plain": [
       "2.0"
      ]
     },
     "execution_count": 79,
     "metadata": {},
     "output_type": "execute_result"
    }
   ],
   "source": [
    "# Standard deviation (sigma)\n",
    "std_dev = math.sqrt(variance)\n",
    "std_dev"
   ]
  },
  {
   "cell_type": "code",
   "execution_count": 80,
   "id": "3db31e8e",
   "metadata": {},
   "outputs": [
    {
     "data": {
      "text/plain": [
       "0.06680720126885809"
      ]
     },
     "execution_count": 80,
     "metadata": {},
     "output_type": "execute_result"
    }
   ],
   "source": [
    "# a) Probability that a current measurement will exceed 13 mA\n",
    "prob_gt_13 = 1 - norm.cdf(13, loc=mean, scale=std_dev)\n",
    "prob_gt_13"
   ]
  },
  {
   "cell_type": "code",
   "execution_count": 81,
   "id": "7d4f19f3",
   "metadata": {},
   "outputs": [
    {
     "data": {
      "text/plain": [
       "0.38292492254802624"
      ]
     },
     "execution_count": 81,
     "metadata": {},
     "output_type": "execute_result"
    }
   ],
   "source": [
    "# b) Probability that a current measurement is between 9 and 11 mA\n",
    "prob_between_9_and_11 = norm.cdf(11, loc=mean, scale=std_dev) - norm.cdf(9, loc=mean, scale=std_dev)\n",
    "prob_between_9_and_11"
   ]
  },
  {
   "cell_type": "code",
   "execution_count": 82,
   "id": "529819c3",
   "metadata": {},
   "outputs": [
    {
     "data": {
      "text/plain": [
       "14.107497821263646"
      ]
     },
     "execution_count": 82,
     "metadata": {},
     "output_type": "execute_result"
    }
   ],
   "source": [
    "# c) Determine the current measurement which has a probability of 0.98\n",
    "measurement_for_098 = norm.ppf(0.98, loc=mean, scale=std_dev)\n",
    "measurement_for_098"
   ]
  },
  {
   "cell_type": "code",
   "execution_count": null,
   "id": "24223ea3",
   "metadata": {},
   "outputs": [],
   "source": []
  },
  {
   "cell_type": "code",
   "execution_count": null,
   "id": "708a4202",
   "metadata": {},
   "outputs": [],
   "source": []
  },
  {
   "cell_type": "markdown",
   "id": "f4420942",
   "metadata": {},
   "source": [
    "The shaft in a piston has its diameter normally distributed with a mean of 0.2508 inch\n",
    "and a standard deviation of 0.0005 inch. The specifications of the shaft are 0.2500 ∓\n",
    "0.0015 inch. What proportion of shafts are in sync with the specifications? If the\n",
    "process is centered so that the mean is equal to the target value of 0.2500, what\n",
    "proportion of shafts conform to the new specifications? What is your conclusion from\n",
    "this experiment?"
   ]
  },
  {
   "cell_type": "code",
   "execution_count": 91,
   "id": "e0b7b4cb",
   "metadata": {},
   "outputs": [],
   "source": [
    "from scipy.stats import norm"
   ]
  },
  {
   "cell_type": "code",
   "execution_count": 92,
   "id": "42f10d0d",
   "metadata": {},
   "outputs": [],
   "source": [
    "# Given data\n",
    "mean_original = 0.2508\n",
    "std_dev = 0.0005\n",
    "\n",
    "# Original specifications\n",
    "lower_original = 0.2500 - 0.0015\n",
    "upper_original = 0.2500 + 0.0015"
   ]
  },
  {
   "cell_type": "code",
   "execution_count": 96,
   "id": "17ed5c67",
   "metadata": {},
   "outputs": [
    {
     "data": {
      "text/plain": [
       "0.2485"
      ]
     },
     "execution_count": 96,
     "metadata": {},
     "output_type": "execute_result"
    }
   ],
   "source": [
    "lower_original"
   ]
  },
  {
   "cell_type": "code",
   "execution_count": 97,
   "id": "d9ad8d23",
   "metadata": {},
   "outputs": [
    {
     "data": {
      "text/plain": [
       "0.2515"
      ]
     },
     "execution_count": 97,
     "metadata": {},
     "output_type": "execute_result"
    }
   ],
   "source": [
    "upper_original"
   ]
  },
  {
   "cell_type": "code",
   "execution_count": 93,
   "id": "158b57f8",
   "metadata": {},
   "outputs": [],
   "source": [
    "# New specifications with mean = 0.2500\n",
    "lower_new = lower_original - (mean_original - 0.2500)\n",
    "upper_new = upper_original - (mean_original - 0.2500)"
   ]
  },
  {
   "cell_type": "code",
   "execution_count": 94,
   "id": "80a6fec5",
   "metadata": {},
   "outputs": [
    {
     "data": {
      "text/plain": [
       "0.24769999999999998"
      ]
     },
     "execution_count": 94,
     "metadata": {},
     "output_type": "execute_result"
    }
   ],
   "source": [
    "lower_new"
   ]
  },
  {
   "cell_type": "code",
   "execution_count": 95,
   "id": "0fe7d490",
   "metadata": {},
   "outputs": [
    {
     "data": {
      "text/plain": [
       "0.2507"
      ]
     },
     "execution_count": 95,
     "metadata": {},
     "output_type": "execute_result"
    }
   ],
   "source": [
    "upper_new"
   ]
  },
  {
   "cell_type": "code",
   "execution_count": 90,
   "id": "c4fb905d",
   "metadata": {},
   "outputs": [
    {
     "name": "stdout",
     "output_type": "stream",
     "text": [
      "a) Proportion of shafts in sync with the original specifications: 0.91924122831152\n"
     ]
    }
   ],
   "source": [
    "# a) Proportion of shafts in sync with the original specifications\n",
    "prob_within_original = norm.cdf(upper_original, loc=mean_original, scale=std_dev) - norm.cdf(lower_original, loc=mean_original, scale=std_dev)\n",
    "print(\"a) Proportion of shafts in sync with the original specifications:\", prob_within_original)"
   ]
  },
  {
   "cell_type": "code",
   "execution_count": 89,
   "id": "b53513a7",
   "metadata": {},
   "outputs": [
    {
     "name": "stdout",
     "output_type": "stream",
     "text": [
      "b) Proportion of shafts conforming to the new specifications (mean = 0.2500): 0.91924122831152\n"
     ]
    }
   ],
   "source": [
    "# b) Proportion of shafts conforming to the new specifications (mean = 0.2500)\n",
    "prob_within_new = norm.cdf(upper_new, loc=0.2500, scale=std_dev) - norm.cdf(lower_new, loc=0.2500, scale=std_dev)\n",
    "print(\"b) Proportion of shafts conforming to the new specifications (mean = 0.2500):\", prob_within_new)"
   ]
  },
  {
   "cell_type": "code",
   "execution_count": null,
   "id": "9d5a164e",
   "metadata": {},
   "outputs": [],
   "source": []
  }
 ],
 "metadata": {
  "kernelspec": {
   "display_name": "Python 3 (ipykernel)",
   "language": "python",
   "name": "python3"
  },
  "language_info": {
   "codemirror_mode": {
    "name": "ipython",
    "version": 3
   },
   "file_extension": ".py",
   "mimetype": "text/x-python",
   "name": "python",
   "nbconvert_exporter": "python",
   "pygments_lexer": "ipython3",
   "version": "3.9.13"
  }
 },
 "nbformat": 4,
 "nbformat_minor": 5
}
